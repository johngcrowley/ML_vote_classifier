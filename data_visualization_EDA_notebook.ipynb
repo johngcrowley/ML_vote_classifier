{
 "cells": [
  {
   "cell_type": "code",
   "execution_count": 1,
   "id": "0e9cbda7",
   "metadata": {},
   "outputs": [],
   "source": [
    "import pandas as pd\n",
    "import numpy as np\n",
    "import seaborn as sns\n",
    "import matplotlib.pyplot as plt\n",
    "import datetime as dt\n",
    "from sklearn.model_selection import train_test_split,GridSearchCV\n",
    "from sklearn.ensemble import RandomForestClassifier,GradientBoostingClassifier\n",
    "from sklearn.metrics import roc_curve, roc_auc_score\n",
    "from sklearn.linear_model import LogisticRegression\n",
    "from sklearn import preprocessing\n"
   ]
  },
  {
   "cell_type": "code",
   "execution_count": 2,
   "id": "8097170e",
   "metadata": {},
   "outputs": [],
   "source": [
    "pd.set_option('display.max_columns',None)\n",
    "sns.set(style='darkgrid',palette='deep',font_scale=1.1,rc={'figure.figsize':[20,10]})"
   ]
  },
  {
   "cell_type": "code",
   "execution_count": 3,
   "id": "4a06f92b",
   "metadata": {},
   "outputs": [],
   "source": [
    "survey = pd.read_csv('csvs/survey_responses_training.csv')\n",
    "voter_info = pd.read_csv('csvs/voter_information_training.csv')\n",
    "voter_hist = pd.read_csv('csvs/voting_history_training.csv')"
   ]
  },
  {
   "cell_type": "code",
   "execution_count": 155,
   "id": "a04418e5",
   "metadata": {},
   "outputs": [
    {
     "data": {
      "text/html": [
       "<div>\n",
       "<style scoped>\n",
       "    .dataframe tbody tr th:only-of-type {\n",
       "        vertical-align: middle;\n",
       "    }\n",
       "\n",
       "    .dataframe tbody tr th {\n",
       "        vertical-align: top;\n",
       "    }\n",
       "\n",
       "    .dataframe thead th {\n",
       "        text-align: right;\n",
       "    }\n",
       "</style>\n",
       "<table border=\"1\" class=\"dataframe\">\n",
       "  <thead>\n",
       "    <tr style=\"text-align: right;\">\n",
       "      <th></th>\n",
       "      <th>myv_van_id</th>\n",
       "      <th>contact_type_name</th>\n",
       "      <th>datetime_canvassed</th>\n",
       "      <th>master_survey_question_name</th>\n",
       "      <th>master_survey_response_name</th>\n",
       "    </tr>\n",
       "  </thead>\n",
       "  <tbody>\n",
       "    <tr>\n",
       "      <th>0</th>\n",
       "      <td>3727336</td>\n",
       "      <td>Phone</td>\n",
       "      <td>2016-10-31 00:00:00 UTC</td>\n",
       "      <td>**MSQ2016 Ticket</td>\n",
       "      <td>1 - Strong Support</td>\n",
       "    </tr>\n",
       "    <tr>\n",
       "      <th>1</th>\n",
       "      <td>3596564</td>\n",
       "      <td>Phone</td>\n",
       "      <td>2016-10-21 00:00:00 UTC</td>\n",
       "      <td>**MSQ2016 Ticket</td>\n",
       "      <td>1 - Strong Support</td>\n",
       "    </tr>\n",
       "    <tr>\n",
       "      <th>2</th>\n",
       "      <td>3460754</td>\n",
       "      <td>Phone</td>\n",
       "      <td>2016-10-11 00:00:00 UTC</td>\n",
       "      <td>**16cccRecVBMApp</td>\n",
       "      <td>No, Not Received</td>\n",
       "    </tr>\n",
       "    <tr>\n",
       "      <th>3</th>\n",
       "      <td>3489299</td>\n",
       "      <td>Phone</td>\n",
       "      <td>2018-07-28 00:00:00 UTC</td>\n",
       "      <td>MSQ2018: VOL DCCC</td>\n",
       "      <td>2= No</td>\n",
       "    </tr>\n",
       "    <tr>\n",
       "      <th>4</th>\n",
       "      <td>4186850</td>\n",
       "      <td>Phone</td>\n",
       "      <td>2018-06-16 00:00:00 UTC</td>\n",
       "      <td>MSQ2018:CONG ID DCCC</td>\n",
       "      <td>5 - Support GOP</td>\n",
       "    </tr>\n",
       "  </tbody>\n",
       "</table>\n",
       "</div>"
      ],
      "text/plain": [
       "   myv_van_id contact_type_name       datetime_canvassed  \\\n",
       "0     3727336             Phone  2016-10-31 00:00:00 UTC   \n",
       "1     3596564             Phone  2016-10-21 00:00:00 UTC   \n",
       "2     3460754             Phone  2016-10-11 00:00:00 UTC   \n",
       "3     3489299             Phone  2018-07-28 00:00:00 UTC   \n",
       "4     4186850             Phone  2018-06-16 00:00:00 UTC   \n",
       "\n",
       "  master_survey_question_name master_survey_response_name  \n",
       "0            **MSQ2016 Ticket          1 - Strong Support  \n",
       "1            **MSQ2016 Ticket          1 - Strong Support  \n",
       "2            **16cccRecVBMApp            No, Not Received  \n",
       "3           MSQ2018: VOL DCCC                       2= No  \n",
       "4        MSQ2018:CONG ID DCCC             5 - Support GOP  "
      ]
     },
     "execution_count": 155,
     "metadata": {},
     "output_type": "execute_result"
    }
   ],
   "source": [
    "survey.head()"
   ]
  },
  {
   "cell_type": "code",
   "execution_count": 156,
   "id": "0c1d5a3c",
   "metadata": {},
   "outputs": [
    {
     "data": {
      "text/html": [
       "<div>\n",
       "<style scoped>\n",
       "    .dataframe tbody tr th:only-of-type {\n",
       "        vertical-align: middle;\n",
       "    }\n",
       "\n",
       "    .dataframe tbody tr th {\n",
       "        vertical-align: top;\n",
       "    }\n",
       "\n",
       "    .dataframe thead th {\n",
       "        text-align: right;\n",
       "    }\n",
       "</style>\n",
       "<table border=\"1\" class=\"dataframe\">\n",
       "  <thead>\n",
       "    <tr style=\"text-align: right;\">\n",
       "      <th></th>\n",
       "      <th>myv_van_id</th>\n",
       "      <th>age_combined</th>\n",
       "      <th>gender_combined</th>\n",
       "      <th>ethnicity_combined</th>\n",
       "      <th>zip</th>\n",
       "      <th>registration_date</th>\n",
       "      <th>van_precinct_name</th>\n",
       "      <th>state_house_district_latest</th>\n",
       "      <th>state_senate_district_latest</th>\n",
       "      <th>us_cong_district_latest</th>\n",
       "    </tr>\n",
       "  </thead>\n",
       "  <tbody>\n",
       "    <tr>\n",
       "      <th>0</th>\n",
       "      <td>37835355</td>\n",
       "      <td>24</td>\n",
       "      <td>U</td>\n",
       "      <td>B</td>\n",
       "      <td>75228</td>\n",
       "      <td>2015-11-05</td>\n",
       "      <td>1065</td>\n",
       "      <td>100</td>\n",
       "      <td>23</td>\n",
       "      <td>30</td>\n",
       "    </tr>\n",
       "    <tr>\n",
       "      <th>1</th>\n",
       "      <td>40915631</td>\n",
       "      <td>26</td>\n",
       "      <td>U</td>\n",
       "      <td>NaN</td>\n",
       "      <td>75150</td>\n",
       "      <td>2018-11-06</td>\n",
       "      <td>1300</td>\n",
       "      <td>107</td>\n",
       "      <td>2</td>\n",
       "      <td>5</td>\n",
       "    </tr>\n",
       "    <tr>\n",
       "      <th>2</th>\n",
       "      <td>40802481</td>\n",
       "      <td>47</td>\n",
       "      <td>U</td>\n",
       "      <td>NaN</td>\n",
       "      <td>75043</td>\n",
       "      <td>2018-10-20</td>\n",
       "      <td>1722</td>\n",
       "      <td>113</td>\n",
       "      <td>2</td>\n",
       "      <td>32</td>\n",
       "    </tr>\n",
       "    <tr>\n",
       "      <th>3</th>\n",
       "      <td>38944227</td>\n",
       "      <td>56</td>\n",
       "      <td>U</td>\n",
       "      <td>B</td>\n",
       "      <td>75041</td>\n",
       "      <td>2016-11-08</td>\n",
       "      <td>1729</td>\n",
       "      <td>113</td>\n",
       "      <td>2</td>\n",
       "      <td>32</td>\n",
       "    </tr>\n",
       "    <tr>\n",
       "      <th>4</th>\n",
       "      <td>4055165</td>\n",
       "      <td>62</td>\n",
       "      <td>U</td>\n",
       "      <td>B</td>\n",
       "      <td>75081</td>\n",
       "      <td>2000-11-02</td>\n",
       "      <td>2514</td>\n",
       "      <td>102</td>\n",
       "      <td>8</td>\n",
       "      <td>32</td>\n",
       "    </tr>\n",
       "  </tbody>\n",
       "</table>\n",
       "</div>"
      ],
      "text/plain": [
       "   myv_van_id  age_combined gender_combined ethnicity_combined    zip  \\\n",
       "0    37835355            24               U                  B  75228   \n",
       "1    40915631            26               U                NaN  75150   \n",
       "2    40802481            47               U                NaN  75043   \n",
       "3    38944227            56               U                  B  75041   \n",
       "4     4055165            62               U                  B  75081   \n",
       "\n",
       "  registration_date  van_precinct_name  state_house_district_latest  \\\n",
       "0        2015-11-05               1065                          100   \n",
       "1        2018-11-06               1300                          107   \n",
       "2        2018-10-20               1722                          113   \n",
       "3        2016-11-08               1729                          113   \n",
       "4        2000-11-02               2514                          102   \n",
       "\n",
       "   state_senate_district_latest  us_cong_district_latest  \n",
       "0                            23                       30  \n",
       "1                             2                        5  \n",
       "2                             2                       32  \n",
       "3                             2                       32  \n",
       "4                             8                       32  "
      ]
     },
     "execution_count": 156,
     "metadata": {},
     "output_type": "execute_result"
    }
   ],
   "source": [
    "voter_info.head()"
   ]
  },
  {
   "cell_type": "code",
   "execution_count": 157,
   "id": "1d00e3de",
   "metadata": {},
   "outputs": [
    {
     "data": {
      "text/html": [
       "<div>\n",
       "<style scoped>\n",
       "    .dataframe tbody tr th:only-of-type {\n",
       "        vertical-align: middle;\n",
       "    }\n",
       "\n",
       "    .dataframe tbody tr th {\n",
       "        vertical-align: top;\n",
       "    }\n",
       "\n",
       "    .dataframe thead th {\n",
       "        text-align: right;\n",
       "    }\n",
       "</style>\n",
       "<table border=\"1\" class=\"dataframe\">\n",
       "  <thead>\n",
       "    <tr style=\"text-align: right;\">\n",
       "      <th></th>\n",
       "      <th>Unnamed: 0</th>\n",
       "      <th>myv_van_id</th>\n",
       "      <th>party_id</th>\n",
       "      <th>election_date</th>\n",
       "    </tr>\n",
       "  </thead>\n",
       "  <tbody>\n",
       "    <tr>\n",
       "      <th>0</th>\n",
       "      <td>0</td>\n",
       "      <td>4244191</td>\n",
       "      <td>1.0</td>\n",
       "      <td>2016-05-24</td>\n",
       "    </tr>\n",
       "    <tr>\n",
       "      <th>1</th>\n",
       "      <td>1</td>\n",
       "      <td>3719754</td>\n",
       "      <td>2.0</td>\n",
       "      <td>2016-05-24</td>\n",
       "    </tr>\n",
       "    <tr>\n",
       "      <th>2</th>\n",
       "      <td>2</td>\n",
       "      <td>3576807</td>\n",
       "      <td>1.0</td>\n",
       "      <td>2016-05-24</td>\n",
       "    </tr>\n",
       "    <tr>\n",
       "      <th>3</th>\n",
       "      <td>3</td>\n",
       "      <td>4096169</td>\n",
       "      <td>1.0</td>\n",
       "      <td>2016-05-24</td>\n",
       "    </tr>\n",
       "    <tr>\n",
       "      <th>4</th>\n",
       "      <td>4</td>\n",
       "      <td>3475084</td>\n",
       "      <td>2.0</td>\n",
       "      <td>2016-05-24</td>\n",
       "    </tr>\n",
       "  </tbody>\n",
       "</table>\n",
       "</div>"
      ],
      "text/plain": [
       "   Unnamed: 0  myv_van_id  party_id election_date\n",
       "0           0     4244191       1.0    2016-05-24\n",
       "1           1     3719754       2.0    2016-05-24\n",
       "2           2     3576807       1.0    2016-05-24\n",
       "3           3     4096169       1.0    2016-05-24\n",
       "4           4     3475084       2.0    2016-05-24"
      ]
     },
     "execution_count": 157,
     "metadata": {},
     "output_type": "execute_result"
    }
   ],
   "source": [
    "voter_hist.head()"
   ]
  },
  {
   "cell_type": "code",
   "execution_count": 158,
   "id": "893f0e1e",
   "metadata": {},
   "outputs": [
    {
     "name": "stdout",
     "output_type": "stream",
     "text": [
      "7261\n"
     ]
    },
    {
     "data": {
      "text/plain": [
       "0    27940\n",
       "1     5490\n",
       "Name: voted, dtype: int64"
      ]
     },
     "execution_count": 158,
     "metadata": {},
     "output_type": "execute_result"
    }
   ],
   "source": [
    "print(len(voter_hist['myv_van_id'].unique()))\n",
    "\n",
    "voter_hist['voted'] = np.where(voter_hist['election_date'] == '2018-11-06',1,0)\n",
    "voter_hist['voted'].value_counts()"
   ]
  },
  {
   "cell_type": "code",
   "execution_count": 159,
   "id": "c889b940",
   "metadata": {},
   "outputs": [
    {
     "name": "stdout",
     "output_type": "stream",
     "text": [
      "\n",
      "\n",
      " Data Types \n",
      "\n",
      "1. survey d-types:\n",
      " myv_van_id                      int64\n",
      "contact_type_name              object\n",
      "datetime_canvassed             object\n",
      "master_survey_question_name    object\n",
      "master_survey_response_name    object\n",
      "dtype: object\n",
      "\n",
      "\n",
      "2. voter_information d-types:\n",
      " myv_van_id                       int64\n",
      "age_combined                     int64\n",
      "gender_combined                 object\n",
      "ethnicity_combined              object\n",
      "zip                              int64\n",
      "registration_date               object\n",
      "van_precinct_name                int64\n",
      "state_house_district_latest      int64\n",
      "state_senate_district_latest     int64\n",
      "us_cong_district_latest          int64\n",
      "dtype: object\n",
      "\n",
      "\n",
      "3. voter_history d-types:\n",
      " Unnamed: 0         int64\n",
      "myv_van_id         int64\n",
      "party_id         float64\n",
      "election_date     object\n",
      "voted              int64\n",
      "dtype: object\n"
     ]
    }
   ],
   "source": [
    "print('\\n\\n Data Types \\n')\n",
    "print(f'1. survey d-types:\\n {survey.dtypes}\\n\\n')\n",
    "print(f'2. voter_information d-types:\\n {voter_info.dtypes}\\n\\n')\n",
    "print(f'3. voter_history d-types:\\n {voter_hist.dtypes}')"
   ]
  },
  {
   "cell_type": "markdown",
   "id": "efe3626e",
   "metadata": {},
   "source": [
    "# an agenda; a forethought:"
   ]
  },
  {
   "cell_type": "markdown",
   "id": "c8293d89",
   "metadata": {},
   "source": [
    "#### 1A. Join voter_info and survey_respones, keep voter_history separate. \n",
    "    - lets use these 2 merged df's to generate some numeric variables.\n",
    "    - this is looking entirely categorical so far. joining all 3 will make isolating target variable hard.\n",
    "\n",
    "#### 1B. Check for missing_values \n",
    "    - probably not many because this is VAN.\n",
    "\n",
    "#### 2. \"master_survey_respone_name\" --> try to group it / make useful\n",
    "    - lot of messiness here / redundancy\n",
    "\n",
    "#### 3. feature-engineering = i want to see a numerical abs(date_registered - election day 2018\n",
    "    - get an average amount of days from OG registration to Election Day 2018.\n",
    "    - this at least will correlate to the target variable (did they vote?) \n",
    "    - and their voting history (% of elections voted in)\n",
    "    - could be cool\n",
    "\n",
    "\n",
    "#### 4. see relationships with seaborn\n",
    "     - let's use groupby with sns.heatmap / pivot_table to check.\n",
    "     - to see how locations play in with gender, party, etc. later on...\n",
    "     - precints, districts, etc. will have redundancy. \n",
    "     - what is a good balance to distribute as a categorical variable but not be too sparse?\n",
    "     - maybe ethnicity aint useful\n",
    "\n",
    "\n",
    "#### 5. one-hot-encode categoricals (this is why we are trying to limit features AMAP)\n",
    "\n",
    "#### 6. Quick n dirty Random Forest to verify important features\n",
    "\n",
    "#### 7. GridsearchCV for best params across Logreg, GradboostDT, RandoForest \n",
    "    - why? \n",
    "    - logreg is an important baseline. we are doing basic classification. always good to start small. \n",
    "    - Gradboostdt is very robust against over-fitting, and is a great \"out of the box\" classifier\n",
    "    - random forest, tho higher computational cost, like gradboost, does deliver us feature_importances_"
   ]
  },
  {
   "cell_type": "markdown",
   "id": "4a3267c3",
   "metadata": {},
   "source": [
    "## 1A. merge survey_responses.csv + voter_information.csv"
   ]
  },
  {
   "cell_type": "code",
   "execution_count": 160,
   "id": "d1a8996d",
   "metadata": {},
   "outputs": [
    {
     "data": {
      "text/html": [
       "<div>\n",
       "<style scoped>\n",
       "    .dataframe tbody tr th:only-of-type {\n",
       "        vertical-align: middle;\n",
       "    }\n",
       "\n",
       "    .dataframe tbody tr th {\n",
       "        vertical-align: top;\n",
       "    }\n",
       "\n",
       "    .dataframe thead th {\n",
       "        text-align: right;\n",
       "    }\n",
       "</style>\n",
       "<table border=\"1\" class=\"dataframe\">\n",
       "  <thead>\n",
       "    <tr style=\"text-align: right;\">\n",
       "      <th></th>\n",
       "      <th>myv_van_id</th>\n",
       "      <th>contact_type_name</th>\n",
       "      <th>datetime_canvassed</th>\n",
       "      <th>master_survey_question_name</th>\n",
       "      <th>master_survey_response_name</th>\n",
       "      <th>age_combined</th>\n",
       "      <th>gender_combined</th>\n",
       "      <th>ethnicity_combined</th>\n",
       "      <th>zip</th>\n",
       "      <th>registration_date</th>\n",
       "      <th>van_precinct_name</th>\n",
       "      <th>state_house_district_latest</th>\n",
       "      <th>state_senate_district_latest</th>\n",
       "      <th>us_cong_district_latest</th>\n",
       "    </tr>\n",
       "  </thead>\n",
       "  <tbody>\n",
       "    <tr>\n",
       "      <th>0</th>\n",
       "      <td>3727336</td>\n",
       "      <td>Phone</td>\n",
       "      <td>2016-10-31 00:00:00 UTC</td>\n",
       "      <td>**MSQ2016 Ticket</td>\n",
       "      <td>1 - Strong Support</td>\n",
       "      <td>68</td>\n",
       "      <td>F</td>\n",
       "      <td>W</td>\n",
       "      <td>75224</td>\n",
       "      <td>1992-09-20</td>\n",
       "      <td>4046</td>\n",
       "      <td>111</td>\n",
       "      <td>23</td>\n",
       "      <td>33</td>\n",
       "    </tr>\n",
       "    <tr>\n",
       "      <th>1</th>\n",
       "      <td>3596564</td>\n",
       "      <td>Phone</td>\n",
       "      <td>2016-10-21 00:00:00 UTC</td>\n",
       "      <td>**MSQ2016 Ticket</td>\n",
       "      <td>1 - Strong Support</td>\n",
       "      <td>93</td>\n",
       "      <td>F</td>\n",
       "      <td>H</td>\n",
       "      <td>75228</td>\n",
       "      <td>1993-05-20</td>\n",
       "      <td>1058</td>\n",
       "      <td>100</td>\n",
       "      <td>2</td>\n",
       "      <td>5</td>\n",
       "    </tr>\n",
       "    <tr>\n",
       "      <th>2</th>\n",
       "      <td>3596564</td>\n",
       "      <td>Phone</td>\n",
       "      <td>2016-10-21 00:00:00 UTC</td>\n",
       "      <td>MSQ2016 POTUS</td>\n",
       "      <td>1 - Support Dem</td>\n",
       "      <td>93</td>\n",
       "      <td>F</td>\n",
       "      <td>H</td>\n",
       "      <td>75228</td>\n",
       "      <td>1993-05-20</td>\n",
       "      <td>1058</td>\n",
       "      <td>100</td>\n",
       "      <td>2</td>\n",
       "      <td>5</td>\n",
       "    </tr>\n",
       "    <tr>\n",
       "      <th>3</th>\n",
       "      <td>3460754</td>\n",
       "      <td>Phone</td>\n",
       "      <td>2016-10-11 00:00:00 UTC</td>\n",
       "      <td>**16cccRecVBMApp</td>\n",
       "      <td>No, Not Received</td>\n",
       "      <td>67</td>\n",
       "      <td>M</td>\n",
       "      <td>W</td>\n",
       "      <td>75228</td>\n",
       "      <td>1988-11-08</td>\n",
       "      <td>1058</td>\n",
       "      <td>100</td>\n",
       "      <td>2</td>\n",
       "      <td>5</td>\n",
       "    </tr>\n",
       "    <tr>\n",
       "      <th>4</th>\n",
       "      <td>3460754</td>\n",
       "      <td>SMS Text</td>\n",
       "      <td>2018-11-06 12:34:00 UTC</td>\n",
       "      <td>2018MSQ: Erly Vt Cmt</td>\n",
       "      <td>Election Day</td>\n",
       "      <td>67</td>\n",
       "      <td>M</td>\n",
       "      <td>W</td>\n",
       "      <td>75228</td>\n",
       "      <td>1988-11-08</td>\n",
       "      <td>1058</td>\n",
       "      <td>100</td>\n",
       "      <td>2</td>\n",
       "      <td>5</td>\n",
       "    </tr>\n",
       "  </tbody>\n",
       "</table>\n",
       "</div>"
      ],
      "text/plain": [
       "   myv_van_id contact_type_name       datetime_canvassed  \\\n",
       "0     3727336             Phone  2016-10-31 00:00:00 UTC   \n",
       "1     3596564             Phone  2016-10-21 00:00:00 UTC   \n",
       "2     3596564             Phone  2016-10-21 00:00:00 UTC   \n",
       "3     3460754             Phone  2016-10-11 00:00:00 UTC   \n",
       "4     3460754          SMS Text  2018-11-06 12:34:00 UTC   \n",
       "\n",
       "  master_survey_question_name master_survey_response_name  age_combined  \\\n",
       "0            **MSQ2016 Ticket          1 - Strong Support            68   \n",
       "1            **MSQ2016 Ticket          1 - Strong Support            93   \n",
       "2               MSQ2016 POTUS             1 - Support Dem            93   \n",
       "3            **16cccRecVBMApp            No, Not Received            67   \n",
       "4        2018MSQ: Erly Vt Cmt                Election Day            67   \n",
       "\n",
       "  gender_combined ethnicity_combined    zip registration_date  \\\n",
       "0               F                  W  75224        1992-09-20   \n",
       "1               F                  H  75228        1993-05-20   \n",
       "2               F                  H  75228        1993-05-20   \n",
       "3               M                  W  75228        1988-11-08   \n",
       "4               M                  W  75228        1988-11-08   \n",
       "\n",
       "   van_precinct_name  state_house_district_latest  \\\n",
       "0               4046                          111   \n",
       "1               1058                          100   \n",
       "2               1058                          100   \n",
       "3               1058                          100   \n",
       "4               1058                          100   \n",
       "\n",
       "   state_senate_district_latest  us_cong_district_latest  \n",
       "0                            23                       33  \n",
       "1                             2                        5  \n",
       "2                             2                        5  \n",
       "3                             2                        5  \n",
       "4                             2                        5  "
      ]
     },
     "execution_count": 160,
     "metadata": {},
     "output_type": "execute_result"
    }
   ],
   "source": [
    "df = pd.merge(survey,voter_info,how='outer',on='myv_van_id')\n",
    "df.head()"
   ]
  },
  {
   "cell_type": "code",
   "execution_count": 161,
   "id": "7f02246a",
   "metadata": {},
   "outputs": [
    {
     "data": {
      "text/plain": [
       "(16782, 14)"
      ]
     },
     "execution_count": 161,
     "metadata": {},
     "output_type": "execute_result"
    }
   ],
   "source": [
    "df.shape"
   ]
  },
  {
   "cell_type": "code",
   "execution_count": 162,
   "id": "f4bac5c6",
   "metadata": {},
   "outputs": [
    {
     "data": {
      "text/plain": [
       "6"
      ]
     },
     "execution_count": 162,
     "metadata": {},
     "output_type": "execute_result"
    }
   ],
   "source": [
    "len(df.us_cong_district_latest.unique())"
   ]
  },
  {
   "cell_type": "code",
   "execution_count": 163,
   "id": "a2e2f7e1",
   "metadata": {},
   "outputs": [
    {
     "data": {
      "text/plain": [
       "14"
      ]
     },
     "execution_count": 163,
     "metadata": {},
     "output_type": "execute_result"
    }
   ],
   "source": [
    "len(df.state_house_district_latest.unique())"
   ]
  },
  {
   "cell_type": "code",
   "execution_count": 164,
   "id": "eca6fedf",
   "metadata": {},
   "outputs": [
    {
     "data": {
      "text/plain": [
       "90"
      ]
     },
     "execution_count": 164,
     "metadata": {},
     "output_type": "execute_result"
    }
   ],
   "source": [
    "len(df.zip.unique())"
   ]
  },
  {
   "cell_type": "code",
   "execution_count": 165,
   "id": "ebe7ee8e",
   "metadata": {},
   "outputs": [],
   "source": [
    "#### just checking..."
   ]
  },
  {
   "cell_type": "markdown",
   "id": "6c0131da",
   "metadata": {},
   "source": [
    "## 1B. missing?"
   ]
  },
  {
   "cell_type": "code",
   "execution_count": 166,
   "id": "94f1fbac",
   "metadata": {},
   "outputs": [
    {
     "data": {
      "text/html": [
       "<div>\n",
       "<style scoped>\n",
       "    .dataframe tbody tr th:only-of-type {\n",
       "        vertical-align: middle;\n",
       "    }\n",
       "\n",
       "    .dataframe tbody tr th {\n",
       "        vertical-align: top;\n",
       "    }\n",
       "\n",
       "    .dataframe thead th {\n",
       "        text-align: right;\n",
       "    }\n",
       "</style>\n",
       "<table border=\"1\" class=\"dataframe\">\n",
       "  <thead>\n",
       "    <tr style=\"text-align: right;\">\n",
       "      <th></th>\n",
       "      <th>missing_val</th>\n",
       "      <th>miss_val_%</th>\n",
       "    </tr>\n",
       "  </thead>\n",
       "  <tbody>\n",
       "    <tr>\n",
       "      <th>master_survey_response_name</th>\n",
       "      <td>7649</td>\n",
       "      <td>45.578596</td>\n",
       "    </tr>\n",
       "    <tr>\n",
       "      <th>contact_type_name</th>\n",
       "      <td>6594</td>\n",
       "      <td>39.292099</td>\n",
       "    </tr>\n",
       "    <tr>\n",
       "      <th>datetime_canvassed</th>\n",
       "      <td>6594</td>\n",
       "      <td>39.292099</td>\n",
       "    </tr>\n",
       "    <tr>\n",
       "      <th>master_survey_question_name</th>\n",
       "      <td>6594</td>\n",
       "      <td>39.292099</td>\n",
       "    </tr>\n",
       "    <tr>\n",
       "      <th>ethnicity_combined</th>\n",
       "      <td>811</td>\n",
       "      <td>4.832559</td>\n",
       "    </tr>\n",
       "  </tbody>\n",
       "</table>\n",
       "</div>"
      ],
      "text/plain": [
       "                             missing_val  miss_val_%\n",
       "master_survey_response_name         7649   45.578596\n",
       "contact_type_name                   6594   39.292099\n",
       "datetime_canvassed                  6594   39.292099\n",
       "master_survey_question_name         6594   39.292099\n",
       "ethnicity_combined                   811    4.832559"
      ]
     },
     "execution_count": 166,
     "metadata": {},
     "output_type": "execute_result"
    }
   ],
   "source": [
    "missing_val = df.isnull().sum()\n",
    "miss_val_percent = 100* df.isnull().sum() / len(df)\n",
    "missing_df = pd.concat([missing_val,miss_val_percent],axis=1)\n",
    "missing_df.columns = ['missing_val','miss_val_%']\n",
    "missing_df = missing_df[missing_df.iloc[:,0] != 0].sort_values('missing_val',ascending=False)\n",
    "missing_df"
   ]
  },
  {
   "cell_type": "markdown",
   "id": "bea0b92d",
   "metadata": {},
   "source": [
    "#### Kind of a bummer. \n",
    "- Really wanted to use \"master_survey_response_name\", but 45% missing values is a bit steep. \n",
    "- i'll perform the cleaning on it that i wanted and see about adding it in. "
   ]
  },
  {
   "cell_type": "markdown",
   "id": "547b1cce",
   "metadata": {},
   "source": [
    "## 2. Survey_Responses"
   ]
  },
  {
   "cell_type": "code",
   "execution_count": 167,
   "id": "aaf0109e",
   "metadata": {},
   "outputs": [
    {
     "data": {
      "text/plain": [
       "array(['**MSQ2016 Ticket', '**16cccRecVBMApp', 'MSQ2018: VOL DCCC',\n",
       "       'MSQ2018:CONG ID DCCC', '2018MSQ: Erly Vt Cmt',\n",
       "       'MSQ2018: Pri-ID DCCC', 'MSQ2016 Vote Plan',\n",
       "       '2018MSQ: D Ticket ID', 'MSQ2016 State House',\n",
       "       '15 MSQ: Generic ID', 'MSQ: Support Beto', '**SubVBMBallot',\n",
       "       '2018MSQ: CandidNomin', 'MSQ2016 POTUS', '2014MSQ: Ticket',\n",
       "       'MSQ2016 Party ID', 'MSQ2016 Volunteer', 'MSQ2016 Commissioner',\n",
       "       'MSQ2016 Yard Sign', 'MSQ2018: VOTE PLAN', '17-18 Volunteer Ask',\n",
       "       'MSQ2018: PET DCCC', '2014MSQ: Downballot'], dtype=object)"
      ]
     },
     "execution_count": 167,
     "metadata": {},
     "output_type": "execute_result"
    }
   ],
   "source": [
    "survey['master_survey_question_name'].unique()"
   ]
  },
  {
   "cell_type": "code",
   "execution_count": 168,
   "id": "f4651e74",
   "metadata": {},
   "outputs": [],
   "source": [
    "#useless"
   ]
  },
  {
   "cell_type": "code",
   "execution_count": 169,
   "id": "80271e46",
   "metadata": {},
   "outputs": [
    {
     "data": {
      "text/plain": [
       "array(['1 - Strong Support', 'No, Not Received', '2= No',\n",
       "       '5 - Support GOP', 'Mail', '2-Undecided', 'Early Vote',\n",
       "       'T- Ticket Splitter', '1 - Strong Democrat', 'i- Independent',\n",
       "       '1= Yes', '5 - Strong Cruz', 'Not Voting', '2 - Lean Democrat',\n",
       "       '2 - Lean Dem', '4 - Lean GOP', 'No, In Person',\n",
       "       'd- 1—Splitter moreDs', 'Voting in Person', '5 - Strong Against',\n",
       "       '4-No Support Rep', 'Yes, Received', '3-No Other Dem',\n",
       "       'T - Ticket Splitter', 'Ticket Splitter', '3 - Neither/Unsure',\n",
       "       'Maybe/Depends', '5-Strong Republican', 'Yes - Requested',\n",
       "       'No Will Not', nan, 'No', 'Yes', '1-Yes', 'Maybe', '3- Undecided',\n",
       "       'Election Day', '3 - Undecided', 'Already Voted', 'Yes, Plan Made',\n",
       "       '1 - Support Dem', '2- Lean Democrat', '1- Strong Democrat',\n",
       "       '4- Lean Republican', '5- Strong Republican',\n",
       "       'P- OthrPrimaryCntact'], dtype=object)"
      ]
     },
     "execution_count": 169,
     "metadata": {},
     "output_type": "execute_result"
    }
   ],
   "source": [
    "survey['master_survey_response_name'].unique()"
   ]
  },
  {
   "cell_type": "code",
   "execution_count": 170,
   "id": "f328d4a5",
   "metadata": {},
   "outputs": [],
   "source": [
    "#useful?"
   ]
  },
  {
   "cell_type": "markdown",
   "id": "e701b2db",
   "metadata": {},
   "source": [
    "#### Group responses"
   ]
  },
  {
   "cell_type": "code",
   "execution_count": 171,
   "id": "0011f73f",
   "metadata": {},
   "outputs": [],
   "source": [
    "def survey_response(x):\n",
    "    \n",
    "    repub = {'republican':['5','4','rep']}\n",
    "    dem = {'democrat':['1','dem','lean democrat']}\n",
    "    undec = {'undecided':['ticket','3','undecided','maybe']}\n",
    "    no = {'not_voting':['no']}\n",
    "    responses = [repub,dem,undec,no]\n",
    "    \n",
    "    for response in responses:\n",
    "        for k,v in response.items():\n",
    "            for z in v:\n",
    "                if str(z) in str(x).lower():\n",
    "                    return k\n",
    "\n",
    "df['master_survey_response_name'] = df['master_survey_response_name'].apply(survey_response)            "
   ]
  },
  {
   "cell_type": "code",
   "execution_count": 172,
   "id": "8e0193aa",
   "metadata": {},
   "outputs": [
    {
     "data": {
      "text/plain": [
       "democrat      5518\n",
       "undecided      897\n",
       "republican     742\n",
       "not_voting     262\n",
       "Name: master_survey_response_name, dtype: int64"
      ]
     },
     "execution_count": 172,
     "metadata": {},
     "output_type": "execute_result"
    }
   ],
   "source": [
    "df['master_survey_response_name'].value_counts()"
   ]
  },
  {
   "cell_type": "code",
   "execution_count": 173,
   "id": "618aac01",
   "metadata": {},
   "outputs": [],
   "source": [
    "df.drop(columns='master_survey_question_name',axis=1,inplace=True)\n",
    "\n",
    "# rename it for easier use.\n",
    "df = df.rename(columns={'master_survey_response_name':'survey'})"
   ]
  },
  {
   "cell_type": "markdown",
   "id": "c1056bed",
   "metadata": {},
   "source": [
    "## 3. Feature Engineering"
   ]
  },
  {
   "cell_type": "markdown",
   "id": "df87f8fa",
   "metadata": {},
   "source": [
    "#### on abs(Dates)..."
   ]
  },
  {
   "cell_type": "code",
   "execution_count": 174,
   "id": "536c4c10",
   "metadata": {},
   "outputs": [
    {
     "data": {
      "text/plain": [
       "42.6    533\n",
       "2.0     479\n",
       "0.0     419\n",
       "10.0    335\n",
       "6.0     325\n",
       "       ... \n",
       "29.2      1\n",
       "33.2      1\n",
       "37.7      1\n",
       "39.3      1\n",
       "28.4      1\n",
       "Name: vote_since_register, Length: 411, dtype: int64"
      ]
     },
     "execution_count": 174,
     "metadata": {},
     "output_type": "execute_result"
    }
   ],
   "source": [
    "df['eday'] = '2018-11-06'\n",
    "\n",
    "df['registration_date'] = pd.to_datetime(df['registration_date']).dt.date\n",
    "df['eday'] = pd.to_datetime(df['eday']).dt.date\n",
    "\n",
    "\n",
    "# get days since, normalize by years. note: same day registration = 0\n",
    "df['vote_since_register'] = (df['eday'] - df['registration_date'])\n",
    "df['vote_since_register'] = df['vote_since_register'].apply(lambda x: round(int(x.days) / 365,1))\n",
    "\n",
    "# check distribution\n",
    "df['vote_since_register'].value_counts()"
   ]
  },
  {
   "cell_type": "markdown",
   "id": "72b24249",
   "metadata": {},
   "source": [
    "#### on % Of Elections Voted in..."
   ]
  },
  {
   "cell_type": "code",
   "execution_count": 175,
   "id": "0590b62a",
   "metadata": {},
   "outputs": [],
   "source": [
    "elecs = len(voter_hist['election_date'].unique())\n",
    "gb = voter_hist.groupby('myv_van_id')['election_date']\n",
    "voter_gb_van_id = (gb.count()).apply(lambda x: round(100* x/elecs,2))"
   ]
  },
  {
   "cell_type": "code",
   "execution_count": null,
   "id": "1e551dad",
   "metadata": {},
   "outputs": [],
   "source": []
  },
  {
   "cell_type": "markdown",
   "id": "2a3a53f5",
   "metadata": {},
   "source": [
    "####  lock-in our 'Voted' Target variable while we're here"
   ]
  },
  {
   "cell_type": "code",
   "execution_count": 176,
   "id": "6c63510f",
   "metadata": {},
   "outputs": [
    {
     "data": {
      "text/html": [
       "<div>\n",
       "<style scoped>\n",
       "    .dataframe tbody tr th:only-of-type {\n",
       "        vertical-align: middle;\n",
       "    }\n",
       "\n",
       "    .dataframe tbody tr th {\n",
       "        vertical-align: top;\n",
       "    }\n",
       "\n",
       "    .dataframe thead th {\n",
       "        text-align: right;\n",
       "    }\n",
       "</style>\n",
       "<table border=\"1\" class=\"dataframe\">\n",
       "  <thead>\n",
       "    <tr style=\"text-align: right;\">\n",
       "      <th></th>\n",
       "      <th>% election</th>\n",
       "      <th>voted</th>\n",
       "    </tr>\n",
       "    <tr>\n",
       "      <th>myv_van_id</th>\n",
       "      <th></th>\n",
       "      <th></th>\n",
       "    </tr>\n",
       "  </thead>\n",
       "  <tbody>\n",
       "    <tr>\n",
       "      <th>1905</th>\n",
       "      <td>34.78</td>\n",
       "      <td>1</td>\n",
       "    </tr>\n",
       "    <tr>\n",
       "      <th>7509</th>\n",
       "      <td>43.48</td>\n",
       "      <td>1</td>\n",
       "    </tr>\n",
       "    <tr>\n",
       "      <th>10993</th>\n",
       "      <td>21.74</td>\n",
       "      <td>1</td>\n",
       "    </tr>\n",
       "    <tr>\n",
       "      <th>22643</th>\n",
       "      <td>4.35</td>\n",
       "      <td>0</td>\n",
       "    </tr>\n",
       "    <tr>\n",
       "      <th>25108</th>\n",
       "      <td>52.17</td>\n",
       "      <td>1</td>\n",
       "    </tr>\n",
       "  </tbody>\n",
       "</table>\n",
       "</div>"
      ],
      "text/plain": [
       "            % election  voted\n",
       "myv_van_id                   \n",
       "1905             34.78      1\n",
       "7509             43.48      1\n",
       "10993            21.74      1\n",
       "22643             4.35      0\n",
       "25108            52.17      1"
      ]
     },
     "execution_count": 176,
     "metadata": {},
     "output_type": "execute_result"
    }
   ],
   "source": [
    "history_gb_elections = pd.DataFrame(voter_gb_van_id).reset_index().rename(columns={'election_date':'% election'})\n",
    "df2 = pd.merge(history_gb_elections,voter_hist,how='inner',on='myv_van_id')\n",
    "df2 = df2.drop(columns=['Unnamed: 0','party_id','election_date'])\n",
    "df3 = pd.pivot_table(data=df2,index='myv_van_id')\n",
    "df3['voted'] = np.where(df3['voted'] > 0,1,0)\n",
    "df3.head()"
   ]
  },
  {
   "cell_type": "code",
   "execution_count": 177,
   "id": "b66d9455",
   "metadata": {},
   "outputs": [
    {
     "data": {
      "text/plain": [
       "7261"
      ]
     },
     "execution_count": 177,
     "metadata": {},
     "output_type": "execute_result"
    }
   ],
   "source": [
    "len(df3)"
   ]
  },
  {
   "cell_type": "markdown",
   "id": "4bfcd090",
   "metadata": {},
   "source": [
    "## Re-Cap: we have:\n",
    "    - engineered abs(registration - e-day 2018) feature\n",
    "    - engineered % of elections voted in by Van_id\n",
    "    - added a 1 for 'voted' and 0 for those that didnt' vote in 2018 election, and removed redundant Van_ids\n",
    "    - grouped some survey responses and made another column with 1/0 for them sounding like a voter at door/phone\n",
    "## What's Left? \n",
    "    - find a location metric to use that won't be too sparse but also not too boring.\n",
    "    - merge df + df3 on inner Van_id, so that we have only one unique Van_id, but all our features for them\n",
    "    - Features:\n",
    "        1. Gender                     - Categorical (tri-variate; ok for sparse matrix)\n",
    "        2. Age                        - Numeric\n",
    "        3. Voted?                     - (Target)             \n",
    "        4. % Of Elections voted in    - Numeric\n",
    "        5. abs(registration-eday)     - Numeric\n",
    "        6. Congressional_district     - Categorical (six-variate; ok for sparse matrix)\n",
    "        7. Ethnicity                  - Categorical (pent-variate; pending removal of NaN)\n",
    "        8. Survey                     - this will be tough on inner merge... i wonder how it will look."
   ]
  },
  {
   "cell_type": "code",
   "execution_count": 178,
   "id": "552115ad",
   "metadata": {},
   "outputs": [
    {
     "data": {
      "text/html": [
       "<div>\n",
       "<style scoped>\n",
       "    .dataframe tbody tr th:only-of-type {\n",
       "        vertical-align: middle;\n",
       "    }\n",
       "\n",
       "    .dataframe tbody tr th {\n",
       "        vertical-align: top;\n",
       "    }\n",
       "\n",
       "    .dataframe thead th {\n",
       "        text-align: right;\n",
       "    }\n",
       "</style>\n",
       "<table border=\"1\" class=\"dataframe\">\n",
       "  <thead>\n",
       "    <tr style=\"text-align: right;\">\n",
       "      <th></th>\n",
       "      <th>myv_van_id</th>\n",
       "      <th>contact_type_name</th>\n",
       "      <th>datetime_canvassed</th>\n",
       "      <th>survey</th>\n",
       "      <th>age_combined</th>\n",
       "      <th>gender_combined</th>\n",
       "      <th>ethnicity_combined</th>\n",
       "      <th>zip</th>\n",
       "      <th>registration_date</th>\n",
       "      <th>van_precinct_name</th>\n",
       "      <th>state_house_district_latest</th>\n",
       "      <th>state_senate_district_latest</th>\n",
       "      <th>us_cong_district_latest</th>\n",
       "      <th>eday</th>\n",
       "      <th>vote_since_register</th>\n",
       "    </tr>\n",
       "  </thead>\n",
       "  <tbody>\n",
       "    <tr>\n",
       "      <th>0</th>\n",
       "      <td>3727336</td>\n",
       "      <td>Phone</td>\n",
       "      <td>2016-10-31 00:00:00 UTC</td>\n",
       "      <td>democrat</td>\n",
       "      <td>68</td>\n",
       "      <td>F</td>\n",
       "      <td>W</td>\n",
       "      <td>75224</td>\n",
       "      <td>1992-09-20</td>\n",
       "      <td>4046</td>\n",
       "      <td>111</td>\n",
       "      <td>23</td>\n",
       "      <td>33</td>\n",
       "      <td>2018-11-06</td>\n",
       "      <td>26.1</td>\n",
       "    </tr>\n",
       "    <tr>\n",
       "      <th>1</th>\n",
       "      <td>3596564</td>\n",
       "      <td>Phone</td>\n",
       "      <td>2016-10-21 00:00:00 UTC</td>\n",
       "      <td>democrat</td>\n",
       "      <td>93</td>\n",
       "      <td>F</td>\n",
       "      <td>H</td>\n",
       "      <td>75228</td>\n",
       "      <td>1993-05-20</td>\n",
       "      <td>1058</td>\n",
       "      <td>100</td>\n",
       "      <td>2</td>\n",
       "      <td>5</td>\n",
       "      <td>2018-11-06</td>\n",
       "      <td>25.5</td>\n",
       "    </tr>\n",
       "    <tr>\n",
       "      <th>2</th>\n",
       "      <td>3596564</td>\n",
       "      <td>Phone</td>\n",
       "      <td>2016-10-21 00:00:00 UTC</td>\n",
       "      <td>democrat</td>\n",
       "      <td>93</td>\n",
       "      <td>F</td>\n",
       "      <td>H</td>\n",
       "      <td>75228</td>\n",
       "      <td>1993-05-20</td>\n",
       "      <td>1058</td>\n",
       "      <td>100</td>\n",
       "      <td>2</td>\n",
       "      <td>5</td>\n",
       "      <td>2018-11-06</td>\n",
       "      <td>25.5</td>\n",
       "    </tr>\n",
       "    <tr>\n",
       "      <th>3</th>\n",
       "      <td>3460754</td>\n",
       "      <td>Phone</td>\n",
       "      <td>2016-10-11 00:00:00 UTC</td>\n",
       "      <td>not_voting</td>\n",
       "      <td>67</td>\n",
       "      <td>M</td>\n",
       "      <td>W</td>\n",
       "      <td>75228</td>\n",
       "      <td>1988-11-08</td>\n",
       "      <td>1058</td>\n",
       "      <td>100</td>\n",
       "      <td>2</td>\n",
       "      <td>5</td>\n",
       "      <td>2018-11-06</td>\n",
       "      <td>30.0</td>\n",
       "    </tr>\n",
       "    <tr>\n",
       "      <th>4</th>\n",
       "      <td>3460754</td>\n",
       "      <td>SMS Text</td>\n",
       "      <td>2018-11-06 12:34:00 UTC</td>\n",
       "      <td>None</td>\n",
       "      <td>67</td>\n",
       "      <td>M</td>\n",
       "      <td>W</td>\n",
       "      <td>75228</td>\n",
       "      <td>1988-11-08</td>\n",
       "      <td>1058</td>\n",
       "      <td>100</td>\n",
       "      <td>2</td>\n",
       "      <td>5</td>\n",
       "      <td>2018-11-06</td>\n",
       "      <td>30.0</td>\n",
       "    </tr>\n",
       "  </tbody>\n",
       "</table>\n",
       "</div>"
      ],
      "text/plain": [
       "   myv_van_id contact_type_name       datetime_canvassed      survey  \\\n",
       "0     3727336             Phone  2016-10-31 00:00:00 UTC    democrat   \n",
       "1     3596564             Phone  2016-10-21 00:00:00 UTC    democrat   \n",
       "2     3596564             Phone  2016-10-21 00:00:00 UTC    democrat   \n",
       "3     3460754             Phone  2016-10-11 00:00:00 UTC  not_voting   \n",
       "4     3460754          SMS Text  2018-11-06 12:34:00 UTC        None   \n",
       "\n",
       "   age_combined gender_combined ethnicity_combined    zip registration_date  \\\n",
       "0            68               F                  W  75224        1992-09-20   \n",
       "1            93               F                  H  75228        1993-05-20   \n",
       "2            93               F                  H  75228        1993-05-20   \n",
       "3            67               M                  W  75228        1988-11-08   \n",
       "4            67               M                  W  75228        1988-11-08   \n",
       "\n",
       "   van_precinct_name  state_house_district_latest  \\\n",
       "0               4046                          111   \n",
       "1               1058                          100   \n",
       "2               1058                          100   \n",
       "3               1058                          100   \n",
       "4               1058                          100   \n",
       "\n",
       "   state_senate_district_latest  us_cong_district_latest        eday  \\\n",
       "0                            23                       33  2018-11-06   \n",
       "1                             2                        5  2018-11-06   \n",
       "2                             2                        5  2018-11-06   \n",
       "3                             2                        5  2018-11-06   \n",
       "4                             2                        5  2018-11-06   \n",
       "\n",
       "   vote_since_register  \n",
       "0                 26.1  \n",
       "1                 25.5  \n",
       "2                 25.5  \n",
       "3                 30.0  \n",
       "4                 30.0  "
      ]
     },
     "execution_count": 178,
     "metadata": {},
     "output_type": "execute_result"
    }
   ],
   "source": [
    "df.head()"
   ]
  },
  {
   "cell_type": "code",
   "execution_count": 179,
   "id": "61161c6c",
   "metadata": {},
   "outputs": [],
   "source": [
    "df = df.drop(columns=['datetime_canvassed','contact_type_name','registration_date','van_precinct_name','eday'])"
   ]
  },
  {
   "cell_type": "code",
   "execution_count": 180,
   "id": "874e5127",
   "metadata": {},
   "outputs": [],
   "source": [
    "col_renames = {'age_combined':'age',\n",
    "             'gender_combined':'gender',\n",
    "             'ethnicity_combined':'ethnicity',\n",
    "             'state_house_district_latest':'state_house',\n",
    "             'state_senate_district_latest':'state_senate',\n",
    "             'vote_since_register':'yrs_reg',\n",
    "             'us_cong_district_latest':'CD'}\n",
    "df = df.rename(columns=col_renames)"
   ]
  },
  {
   "cell_type": "code",
   "execution_count": 181,
   "id": "25863ee6",
   "metadata": {},
   "outputs": [
    {
     "data": {
      "text/html": [
       "<div>\n",
       "<style scoped>\n",
       "    .dataframe tbody tr th:only-of-type {\n",
       "        vertical-align: middle;\n",
       "    }\n",
       "\n",
       "    .dataframe tbody tr th {\n",
       "        vertical-align: top;\n",
       "    }\n",
       "\n",
       "    .dataframe thead th {\n",
       "        text-align: right;\n",
       "    }\n",
       "</style>\n",
       "<table border=\"1\" class=\"dataframe\">\n",
       "  <thead>\n",
       "    <tr style=\"text-align: right;\">\n",
       "      <th></th>\n",
       "      <th>myv_van_id</th>\n",
       "      <th>survey</th>\n",
       "      <th>age</th>\n",
       "      <th>gender</th>\n",
       "      <th>ethnicity</th>\n",
       "      <th>zip</th>\n",
       "      <th>state_house</th>\n",
       "      <th>state_senate</th>\n",
       "      <th>CD</th>\n",
       "      <th>yrs_reg</th>\n",
       "    </tr>\n",
       "  </thead>\n",
       "  <tbody>\n",
       "    <tr>\n",
       "      <th>0</th>\n",
       "      <td>3727336</td>\n",
       "      <td>democrat</td>\n",
       "      <td>68</td>\n",
       "      <td>F</td>\n",
       "      <td>W</td>\n",
       "      <td>75224</td>\n",
       "      <td>111</td>\n",
       "      <td>23</td>\n",
       "      <td>33</td>\n",
       "      <td>26.1</td>\n",
       "    </tr>\n",
       "    <tr>\n",
       "      <th>1</th>\n",
       "      <td>3596564</td>\n",
       "      <td>democrat</td>\n",
       "      <td>93</td>\n",
       "      <td>F</td>\n",
       "      <td>H</td>\n",
       "      <td>75228</td>\n",
       "      <td>100</td>\n",
       "      <td>2</td>\n",
       "      <td>5</td>\n",
       "      <td>25.5</td>\n",
       "    </tr>\n",
       "    <tr>\n",
       "      <th>2</th>\n",
       "      <td>3596564</td>\n",
       "      <td>democrat</td>\n",
       "      <td>93</td>\n",
       "      <td>F</td>\n",
       "      <td>H</td>\n",
       "      <td>75228</td>\n",
       "      <td>100</td>\n",
       "      <td>2</td>\n",
       "      <td>5</td>\n",
       "      <td>25.5</td>\n",
       "    </tr>\n",
       "    <tr>\n",
       "      <th>3</th>\n",
       "      <td>3460754</td>\n",
       "      <td>not_voting</td>\n",
       "      <td>67</td>\n",
       "      <td>M</td>\n",
       "      <td>W</td>\n",
       "      <td>75228</td>\n",
       "      <td>100</td>\n",
       "      <td>2</td>\n",
       "      <td>5</td>\n",
       "      <td>30.0</td>\n",
       "    </tr>\n",
       "    <tr>\n",
       "      <th>4</th>\n",
       "      <td>3460754</td>\n",
       "      <td>None</td>\n",
       "      <td>67</td>\n",
       "      <td>M</td>\n",
       "      <td>W</td>\n",
       "      <td>75228</td>\n",
       "      <td>100</td>\n",
       "      <td>2</td>\n",
       "      <td>5</td>\n",
       "      <td>30.0</td>\n",
       "    </tr>\n",
       "  </tbody>\n",
       "</table>\n",
       "</div>"
      ],
      "text/plain": [
       "   myv_van_id      survey  age gender ethnicity    zip  state_house  \\\n",
       "0     3727336    democrat   68      F         W  75224          111   \n",
       "1     3596564    democrat   93      F         H  75228          100   \n",
       "2     3596564    democrat   93      F         H  75228          100   \n",
       "3     3460754  not_voting   67      M         W  75228          100   \n",
       "4     3460754        None   67      M         W  75228          100   \n",
       "\n",
       "   state_senate  CD  yrs_reg  \n",
       "0            23  33     26.1  \n",
       "1             2   5     25.5  \n",
       "2             2   5     25.5  \n",
       "3             2   5     30.0  \n",
       "4             2   5     30.0  "
      ]
     },
     "execution_count": 181,
     "metadata": {},
     "output_type": "execute_result"
    }
   ],
   "source": [
    "df.head()"
   ]
  },
  {
   "cell_type": "code",
   "execution_count": 182,
   "id": "ab0996d4",
   "metadata": {},
   "outputs": [
    {
     "data": {
      "text/html": [
       "<div>\n",
       "<style scoped>\n",
       "    .dataframe tbody tr th:only-of-type {\n",
       "        vertical-align: middle;\n",
       "    }\n",
       "\n",
       "    .dataframe tbody tr th {\n",
       "        vertical-align: top;\n",
       "    }\n",
       "\n",
       "    .dataframe thead th {\n",
       "        text-align: right;\n",
       "    }\n",
       "</style>\n",
       "<table border=\"1\" class=\"dataframe\">\n",
       "  <thead>\n",
       "    <tr style=\"text-align: right;\">\n",
       "      <th></th>\n",
       "      <th>% election</th>\n",
       "      <th>voted</th>\n",
       "    </tr>\n",
       "    <tr>\n",
       "      <th>myv_van_id</th>\n",
       "      <th></th>\n",
       "      <th></th>\n",
       "    </tr>\n",
       "  </thead>\n",
       "  <tbody>\n",
       "    <tr>\n",
       "      <th>1905</th>\n",
       "      <td>34.78</td>\n",
       "      <td>1</td>\n",
       "    </tr>\n",
       "    <tr>\n",
       "      <th>7509</th>\n",
       "      <td>43.48</td>\n",
       "      <td>1</td>\n",
       "    </tr>\n",
       "    <tr>\n",
       "      <th>10993</th>\n",
       "      <td>21.74</td>\n",
       "      <td>1</td>\n",
       "    </tr>\n",
       "    <tr>\n",
       "      <th>22643</th>\n",
       "      <td>4.35</td>\n",
       "      <td>0</td>\n",
       "    </tr>\n",
       "    <tr>\n",
       "      <th>25108</th>\n",
       "      <td>52.17</td>\n",
       "      <td>1</td>\n",
       "    </tr>\n",
       "  </tbody>\n",
       "</table>\n",
       "</div>"
      ],
      "text/plain": [
       "            % election  voted\n",
       "myv_van_id                   \n",
       "1905             34.78      1\n",
       "7509             43.48      1\n",
       "10993            21.74      1\n",
       "22643             4.35      0\n",
       "25108            52.17      1"
      ]
     },
     "execution_count": 182,
     "metadata": {},
     "output_type": "execute_result"
    }
   ],
   "source": [
    "df3.head()"
   ]
  },
  {
   "cell_type": "code",
   "execution_count": 183,
   "id": "723a0e78",
   "metadata": {},
   "outputs": [],
   "source": [
    "training = pd.merge(df3,df,on='myv_van_id',how='inner')"
   ]
  },
  {
   "cell_type": "code",
   "execution_count": 184,
   "id": "69a6ea72",
   "metadata": {},
   "outputs": [],
   "source": [
    "training = training.drop_duplicates(subset='myv_van_id')"
   ]
  },
  {
   "cell_type": "code",
   "execution_count": 185,
   "id": "ad311a4a",
   "metadata": {},
   "outputs": [],
   "source": [
    "training = training[training['gender'].isin(['M','F'])]"
   ]
  },
  {
   "cell_type": "code",
   "execution_count": null,
   "id": "625e7846",
   "metadata": {},
   "outputs": [],
   "source": []
  },
  {
   "cell_type": "code",
   "execution_count": 186,
   "id": "95d3c8a7",
   "metadata": {},
   "outputs": [
    {
     "data": {
      "text/plain": [
       "democrat      814\n",
       "republican    348\n",
       "undecided     330\n",
       "not_voting    152\n",
       "Name: survey, dtype: int64"
      ]
     },
     "execution_count": 186,
     "metadata": {},
     "output_type": "execute_result"
    }
   ],
   "source": [
    "training.survey.value_counts()"
   ]
  },
  {
   "cell_type": "code",
   "execution_count": null,
   "id": "9cef0808",
   "metadata": {},
   "outputs": [],
   "source": []
  },
  {
   "cell_type": "code",
   "execution_count": 188,
   "id": "6a1702fc",
   "metadata": {},
   "outputs": [
    {
     "data": {
      "text/html": [
       "<div>\n",
       "<style scoped>\n",
       "    .dataframe tbody tr th:only-of-type {\n",
       "        vertical-align: middle;\n",
       "    }\n",
       "\n",
       "    .dataframe tbody tr th {\n",
       "        vertical-align: top;\n",
       "    }\n",
       "\n",
       "    .dataframe thead th {\n",
       "        text-align: right;\n",
       "    }\n",
       "</style>\n",
       "<table border=\"1\" class=\"dataframe\">\n",
       "  <thead>\n",
       "    <tr style=\"text-align: right;\">\n",
       "      <th></th>\n",
       "      <th>myv_van_id</th>\n",
       "      <th>% election</th>\n",
       "      <th>voted</th>\n",
       "      <th>survey</th>\n",
       "      <th>age</th>\n",
       "      <th>gender</th>\n",
       "      <th>ethnicity</th>\n",
       "      <th>zip</th>\n",
       "      <th>state_house</th>\n",
       "      <th>state_senate</th>\n",
       "      <th>CD</th>\n",
       "      <th>yrs_reg</th>\n",
       "    </tr>\n",
       "  </thead>\n",
       "  <tbody>\n",
       "    <tr>\n",
       "      <th>0</th>\n",
       "      <td>1905</td>\n",
       "      <td>34.78</td>\n",
       "      <td>1</td>\n",
       "      <td>None</td>\n",
       "      <td>57</td>\n",
       "      <td>F</td>\n",
       "      <td>W</td>\n",
       "      <td>75048</td>\n",
       "      <td>112</td>\n",
       "      <td>8</td>\n",
       "      <td>32</td>\n",
       "      <td>10.0</td>\n",
       "    </tr>\n",
       "    <tr>\n",
       "      <th>1</th>\n",
       "      <td>7509</td>\n",
       "      <td>43.48</td>\n",
       "      <td>1</td>\n",
       "      <td>republican</td>\n",
       "      <td>59</td>\n",
       "      <td>M</td>\n",
       "      <td>W</td>\n",
       "      <td>75204</td>\n",
       "      <td>108</td>\n",
       "      <td>16</td>\n",
       "      <td>32</td>\n",
       "      <td>11.3</td>\n",
       "    </tr>\n",
       "    <tr>\n",
       "      <th>3</th>\n",
       "      <td>10993</td>\n",
       "      <td>21.74</td>\n",
       "      <td>1</td>\n",
       "      <td>None</td>\n",
       "      <td>48</td>\n",
       "      <td>M</td>\n",
       "      <td>B</td>\n",
       "      <td>75227</td>\n",
       "      <td>110</td>\n",
       "      <td>23</td>\n",
       "      <td>30</td>\n",
       "      <td>6.0</td>\n",
       "    </tr>\n",
       "    <tr>\n",
       "      <th>4</th>\n",
       "      <td>22643</td>\n",
       "      <td>4.35</td>\n",
       "      <td>0</td>\n",
       "      <td>republican</td>\n",
       "      <td>65</td>\n",
       "      <td>M</td>\n",
       "      <td>W</td>\n",
       "      <td>75220</td>\n",
       "      <td>114</td>\n",
       "      <td>16</td>\n",
       "      <td>24</td>\n",
       "      <td>2.6</td>\n",
       "    </tr>\n",
       "    <tr>\n",
       "      <th>5</th>\n",
       "      <td>25108</td>\n",
       "      <td>52.17</td>\n",
       "      <td>1</td>\n",
       "      <td>None</td>\n",
       "      <td>86</td>\n",
       "      <td>F</td>\n",
       "      <td>W</td>\n",
       "      <td>75089</td>\n",
       "      <td>112</td>\n",
       "      <td>16</td>\n",
       "      <td>32</td>\n",
       "      <td>1.0</td>\n",
       "    </tr>\n",
       "  </tbody>\n",
       "</table>\n",
       "</div>"
      ],
      "text/plain": [
       "   myv_van_id  % election  voted      survey  age gender ethnicity    zip  \\\n",
       "0        1905       34.78      1        None   57      F         W  75048   \n",
       "1        7509       43.48      1  republican   59      M         W  75204   \n",
       "3       10993       21.74      1        None   48      M         B  75227   \n",
       "4       22643        4.35      0  republican   65      M         W  75220   \n",
       "5       25108       52.17      1        None   86      F         W  75089   \n",
       "\n",
       "   state_house  state_senate  CD  yrs_reg  \n",
       "0          112             8  32     10.0  \n",
       "1          108            16  32     11.3  \n",
       "3          110            23  30      6.0  \n",
       "4          114            16  24      2.6  \n",
       "5          112            16  32      1.0  "
      ]
     },
     "execution_count": 188,
     "metadata": {},
     "output_type": "execute_result"
    }
   ],
   "source": [
    "training.head()"
   ]
  },
  {
   "cell_type": "markdown",
   "id": "613b66a9",
   "metadata": {},
   "source": [
    "### The majority of voters is < 10 years registered, almost perfect linear relationship to age and yrs_reg... not super interesting"
   ]
  },
  {
   "cell_type": "code",
   "execution_count": 189,
   "id": "acd0ea3a",
   "metadata": {},
   "outputs": [
    {
     "data": {
      "image/png": "[encoded data removed]",
      "text/plain": [
       "<Figure size 432x432 with 3 Axes>"
      ]
     },
     "metadata": {},
     "output_type": "display_data"
    }
   ],
   "source": [
    "sns.jointplot(x = training.age,y = training.yrs_reg);"
   ]
  },
  {
   "cell_type": "markdown",
   "id": "14671f96",
   "metadata": {},
   "source": [
    "### Adding in the \"hue\" feature of the sns.lmplot, i see a lot of nested results. this shows me the geometry of the results might be worth playing with. I transformd the numeric data by log and sqrt to see if the visual changed. it didn't really. just wanted to check!"
   ]
  },
  {
   "cell_type": "code",
   "execution_count": 190,
   "id": "c4446cb9",
   "metadata": {},
   "outputs": [
    {
     "data": {
      "image/png": "[encoded data removed]",
      "text/plain": [
       "<Figure size 554.435x504 with 1 Axes>"
      ]
     },
     "metadata": {},
     "output_type": "display_data"
    }
   ],
   "source": [
    "sns.lmplot(x='age',y='yrs_reg',hue='voted',data=training,fit_reg=False,scatter_kws={'alpha':0.9,'s':10},height=7,aspect=1);"
   ]
  },
  {
   "cell_type": "markdown",
   "id": "c061621b",
   "metadata": {},
   "source": [
    "#### Keep it simple with categorical hists and bars. Our numeric aren't that profound, yet they might be in our Classifier."
   ]
  },
  {
   "cell_type": "markdown",
   "id": "86f95586",
   "metadata": {},
   "source": [
    "### Women voted ~.25 more times than men on eday 11-06-18"
   ]
  },
  {
   "cell_type": "code",
   "execution_count": 37,
   "id": "f1464a55",
   "metadata": {
    "scrolled": true
   },
   "outputs": [
    {
     "data": {
      "image/png": "[encoded data removed]",
      "text/plain": [
       "<Figure size 720x360 with 2 Axes>"
      ]
     },
     "metadata": {},
     "output_type": "display_data"
    }
   ],
   "source": [
    "sns.catplot(x='voted',col='gender',kind='count',data=training);"
   ]
  },
  {
   "cell_type": "markdown",
   "id": "ee475e05",
   "metadata": {},
   "source": [
    "### Some good variance here in ethnicity. could really help our our classifier."
   ]
  },
  {
   "cell_type": "code",
   "execution_count": 38,
   "id": "2bd349eb",
   "metadata": {},
   "outputs": [
    {
     "data": {
      "image/png": "[encoded data removed]",
      "text/plain": [
       "<Figure size 1440x720 with 1 Axes>"
      ]
     },
     "metadata": {},
     "output_type": "display_data"
    }
   ],
   "source": [
    "training.groupby('ethnicity')['voted'].sum().plot.bar();"
   ]
  },
  {
   "cell_type": "markdown",
   "id": "31b1afd8",
   "metadata": {},
   "source": [
    "### Besides CD 26 which offers almost no results, this heatmap shows that ethnicity and CD together provide some interesting information. There is variety and different 'temps' across CDs, across ethnicity."
   ]
  },
  {
   "cell_type": "code",
   "execution_count": 105,
   "id": "153912fe",
   "metadata": {},
   "outputs": [
    {
     "data": {
      "image/png": "[encoded data removed]",
      "text/plain": [
       "<Figure size 1440x720 with 2 Axes>"
      ]
     },
     "metadata": {},
     "output_type": "display_data"
    }
   ],
   "source": [
    "result = pd.pivot_table(data=training,index='CD',columns='ethnicity',values='% election')\n",
    "sns.heatmap(result,annot=True,cmap='RdYlGn');"
   ]
  },
  {
   "cell_type": "code",
   "execution_count": 106,
   "id": "91022501",
   "metadata": {},
   "outputs": [
    {
     "data": {
      "text/html": [
       "<div>\n",
       "<style scoped>\n",
       "    .dataframe tbody tr th:only-of-type {\n",
       "        vertical-align: middle;\n",
       "    }\n",
       "\n",
       "    .dataframe tbody tr th {\n",
       "        vertical-align: top;\n",
       "    }\n",
       "\n",
       "    .dataframe thead th {\n",
       "        text-align: right;\n",
       "    }\n",
       "</style>\n",
       "<table border=\"1\" class=\"dataframe\">\n",
       "  <thead>\n",
       "    <tr style=\"text-align: right;\">\n",
       "      <th>ethnicity</th>\n",
       "      <th>A</th>\n",
       "      <th>B</th>\n",
       "      <th>H</th>\n",
       "      <th>W</th>\n",
       "    </tr>\n",
       "    <tr>\n",
       "      <th>CD</th>\n",
       "      <th></th>\n",
       "      <th></th>\n",
       "      <th></th>\n",
       "      <th></th>\n",
       "    </tr>\n",
       "  </thead>\n",
       "  <tbody>\n",
       "    <tr>\n",
       "      <th>5</th>\n",
       "      <td>14.746522</td>\n",
       "      <td>16.905824</td>\n",
       "      <td>12.875667</td>\n",
       "      <td>23.917249</td>\n",
       "    </tr>\n",
       "    <tr>\n",
       "      <th>24</th>\n",
       "      <td>10.622911</td>\n",
       "      <td>14.230505</td>\n",
       "      <td>13.859687</td>\n",
       "      <td>22.775904</td>\n",
       "    </tr>\n",
       "    <tr>\n",
       "      <th>26</th>\n",
       "      <td>NaN</td>\n",
       "      <td>NaN</td>\n",
       "      <td>NaN</td>\n",
       "      <td>4.350000</td>\n",
       "    </tr>\n",
       "    <tr>\n",
       "      <th>30</th>\n",
       "      <td>13.975357</td>\n",
       "      <td>22.112755</td>\n",
       "      <td>11.714941</td>\n",
       "      <td>23.917208</td>\n",
       "    </tr>\n",
       "    <tr>\n",
       "      <th>32</th>\n",
       "      <td>12.073495</td>\n",
       "      <td>17.136261</td>\n",
       "      <td>13.261041</td>\n",
       "      <td>24.339898</td>\n",
       "    </tr>\n",
       "    <tr>\n",
       "      <th>33</th>\n",
       "      <td>8.076429</td>\n",
       "      <td>18.841429</td>\n",
       "      <td>13.389801</td>\n",
       "      <td>21.382802</td>\n",
       "    </tr>\n",
       "  </tbody>\n",
       "</table>\n",
       "</div>"
      ],
      "text/plain": [
       "ethnicity          A          B          H          W\n",
       "CD                                                   \n",
       "5          14.746522  16.905824  12.875667  23.917249\n",
       "24         10.622911  14.230505  13.859687  22.775904\n",
       "26               NaN        NaN        NaN   4.350000\n",
       "30         13.975357  22.112755  11.714941  23.917208\n",
       "32         12.073495  17.136261  13.261041  24.339898\n",
       "33          8.076429  18.841429  13.389801  21.382802"
      ]
     },
     "execution_count": 106,
     "metadata": {},
     "output_type": "execute_result"
    }
   ],
   "source": [
    "result"
   ]
  },
  {
   "cell_type": "markdown",
   "id": "a4a8fed5",
   "metadata": {},
   "source": [
    "# 5. One-hot-encoding of Categoricals. make some choices quickly. "
   ]
  },
  {
   "cell_type": "code",
   "execution_count": 109,
   "id": "cae16c3a",
   "metadata": {},
   "outputs": [],
   "source": [
    "training = training.drop(['survey','zip','state_house','state_senate','voted_response'],axis=1)"
   ]
  },
  {
   "cell_type": "code",
   "execution_count": 110,
   "id": "d1b3e0a7",
   "metadata": {},
   "outputs": [
    {
     "data": {
      "text/html": [
       "<div>\n",
       "<style scoped>\n",
       "    .dataframe tbody tr th:only-of-type {\n",
       "        vertical-align: middle;\n",
       "    }\n",
       "\n",
       "    .dataframe tbody tr th {\n",
       "        vertical-align: top;\n",
       "    }\n",
       "\n",
       "    .dataframe thead th {\n",
       "        text-align: right;\n",
       "    }\n",
       "</style>\n",
       "<table border=\"1\" class=\"dataframe\">\n",
       "  <thead>\n",
       "    <tr style=\"text-align: right;\">\n",
       "      <th></th>\n",
       "      <th>myv_van_id</th>\n",
       "      <th>% election</th>\n",
       "      <th>voted</th>\n",
       "      <th>age</th>\n",
       "      <th>gender</th>\n",
       "      <th>ethnicity</th>\n",
       "      <th>CD</th>\n",
       "      <th>yrs_reg</th>\n",
       "    </tr>\n",
       "  </thead>\n",
       "  <tbody>\n",
       "    <tr>\n",
       "      <th>0</th>\n",
       "      <td>1905</td>\n",
       "      <td>34.78</td>\n",
       "      <td>1</td>\n",
       "      <td>57</td>\n",
       "      <td>F</td>\n",
       "      <td>W</td>\n",
       "      <td>32</td>\n",
       "      <td>10.0</td>\n",
       "    </tr>\n",
       "    <tr>\n",
       "      <th>1</th>\n",
       "      <td>7509</td>\n",
       "      <td>43.48</td>\n",
       "      <td>1</td>\n",
       "      <td>59</td>\n",
       "      <td>M</td>\n",
       "      <td>W</td>\n",
       "      <td>32</td>\n",
       "      <td>11.3</td>\n",
       "    </tr>\n",
       "    <tr>\n",
       "      <th>3</th>\n",
       "      <td>10993</td>\n",
       "      <td>21.74</td>\n",
       "      <td>1</td>\n",
       "      <td>48</td>\n",
       "      <td>M</td>\n",
       "      <td>B</td>\n",
       "      <td>30</td>\n",
       "      <td>6.0</td>\n",
       "    </tr>\n",
       "    <tr>\n",
       "      <th>4</th>\n",
       "      <td>22643</td>\n",
       "      <td>4.35</td>\n",
       "      <td>0</td>\n",
       "      <td>65</td>\n",
       "      <td>M</td>\n",
       "      <td>W</td>\n",
       "      <td>24</td>\n",
       "      <td>2.6</td>\n",
       "    </tr>\n",
       "    <tr>\n",
       "      <th>5</th>\n",
       "      <td>25108</td>\n",
       "      <td>52.17</td>\n",
       "      <td>1</td>\n",
       "      <td>86</td>\n",
       "      <td>F</td>\n",
       "      <td>W</td>\n",
       "      <td>32</td>\n",
       "      <td>1.0</td>\n",
       "    </tr>\n",
       "  </tbody>\n",
       "</table>\n",
       "</div>"
      ],
      "text/plain": [
       "   myv_van_id  % election  voted  age gender ethnicity  CD  yrs_reg\n",
       "0        1905       34.78      1   57      F         W  32     10.0\n",
       "1        7509       43.48      1   59      M         W  32     11.3\n",
       "3       10993       21.74      1   48      M         B  30      6.0\n",
       "4       22643        4.35      0   65      M         W  24      2.6\n",
       "5       25108       52.17      1   86      F         W  32      1.0"
      ]
     },
     "execution_count": 110,
     "metadata": {},
     "output_type": "execute_result"
    }
   ],
   "source": [
    "training.head()"
   ]
  },
  {
   "cell_type": "code",
   "execution_count": 111,
   "id": "ff76a8ac",
   "metadata": {},
   "outputs": [],
   "source": [
    "training_encoded = pd.get_dummies(training,columns=['CD','gender','ethnicity','CD']).set_index('myv_van_id')"
   ]
  },
  {
   "cell_type": "markdown",
   "id": "f76a9313",
   "metadata": {},
   "source": [
    "# 6. Random Forest Quick n Dirty to see Feature_Importances_"
   ]
  },
  {
   "cell_type": "code",
   "execution_count": 118,
   "id": "f030abaf",
   "metadata": {},
   "outputs": [],
   "source": [
    "y = training_encoded.voted.dropna(how='all')\n",
    "X = training_encoded.drop(columns='voted').dropna(how='all')"
   ]
  },
  {
   "cell_type": "code",
   "execution_count": 119,
   "id": "3b5bdd83",
   "metadata": {},
   "outputs": [],
   "source": [
    "X_train, X_test, y_train, y_test = train_test_split(X,y,random_state=47)"
   ]
  },
  {
   "cell_type": "code",
   "execution_count": 124,
   "id": "cffb27ce",
   "metadata": {},
   "outputs": [
    {
     "data": {
      "text/plain": [
       "0.8013253119213384"
      ]
     },
     "execution_count": 124,
     "metadata": {},
     "output_type": "execute_result"
    }
   ],
   "source": [
    "clf = RandomForestClassifier(max_depth=2, n_estimators=1000, random_state=47)\n",
    "clf.fit(X_train,y_train)\n",
    "y_pred_prob = clf.predict_proba(X_test)[:,1]\n",
    "roc_auc_score(y_test,y_pred_prob)"
   ]
  },
  {
   "cell_type": "markdown",
   "id": "b252a8b4",
   "metadata": {},
   "source": [
    "## Feature_Importances_"
   ]
  },
  {
   "cell_type": "code",
   "execution_count": 130,
   "id": "9da09248",
   "metadata": {},
   "outputs": [
    {
     "data": {
      "image/png": "[encoded data removed]",
      "text/plain": [
       "<Figure size 1440x720 with 1 Axes>"
      ]
     },
     "metadata": {},
     "output_type": "display_data"
    }
   ],
   "source": [
    "importances = pd.DataFrame({'feature':X_train.columns,'importance':clf.feature_importances_})\n",
    "importances = importances.sort_values('importance',ascending=False).set_index('feature')\n",
    "importances.plot.barh();"
   ]
  },
  {
   "cell_type": "markdown",
   "id": "d7184c56",
   "metadata": {},
   "source": [
    "# 7. GridSearchCV, train Gradient Boost Decision Tree & Logistic Regression\n",
    "    - logr = (really good baseline, simple tuning, perfect for classification of this kind.)\n",
    "    - gbdt = (best out of the box, has worked well for me in the past, prevents overfitting)\n",
    "    - i chose not to go with a kernelized (polynomial, rbf) SVM because the geometry of my numerical data wasnt         super crazy. i checked it with log/sqrt transformations too. "
   ]
  },
  {
   "cell_type": "code",
   "execution_count": 145,
   "id": "5269c61c",
   "metadata": {},
   "outputs": [
    {
     "name": "stdout",
     "output_type": "stream",
     "text": [
      "for LogisticRegression() the best paramaters are {'C': 4, 'max_iter': 1000, 'penalty': 'l2'}\n",
      "\n",
      "for LogisticRegression() the best auc_score is 0.8495956707756891\n",
      "for GradientBoostingClassifier() the best paramaters are {'learning_rate': 0.01, 'max_depth': 2, 'n_estimators': 1000}\n",
      "\n",
      "for GradientBoostingClassifier() the best auc_score is 0.8747556306778737\n"
     ]
    }
   ],
   "source": [
    "from sklearn import preprocessing\n",
    "\n",
    "param_grid_log = {'C':[1.5,2.5,3.5,4],'max_iter':[1000,10000],'penalty':['l2']}\n",
    "param_grid_gb = {'n_estimators':[1000,5000,10000],'learning_rate':[.01,.1,.5],'max_depth':[2,3,4]}\n",
    "#param_grid_rf = {'n_estimators':[1000,5000,10000],'max_depth':[2,3,4,5]}\n",
    "\n",
    "logr = LogisticRegression()\n",
    "gb = GradientBoostingClassifier()\n",
    "# rf = RandomForestClassifier()\n",
    "\n",
    "param_grids = [param_grid_log,param_grid_gb]\n",
    "clfs = [logr,gb]\n",
    "\n",
    "\n",
    "X_train, X_test, y_train, y_test = train_test_split(X,y,random_state=42)\n",
    "\n",
    "min_max_scaler = preprocessing.MinMaxScaler()\n",
    "X_train_scaled = min_max_scaler.fit_transform(X_train)\n",
    "X_test_scaled = min_max_scaler.transform(X_test)\n",
    "\n",
    "for clf, param_grid in zip(clfs,param_grids):\n",
    "    grid_clf_auc = GridSearchCV(clf, param_grid = param_grid, scoring = 'roc_auc' )\n",
    "    grid_clf_auc.fit(X_train_scaled,y_train)\n",
    "    print(f'for {clf} the best paramaters are {grid_clf_auc.best_params_}\\n')\n",
    "    print(f'for {clf} the best auc_score is {grid_clf_auc.best_score_}')\n",
    "    \n",
    "    \n"
   ]
  },
  {
   "cell_type": "markdown",
   "id": "18d61d4b",
   "metadata": {},
   "source": [
    "#### If i had more time, i'd dive into the features, removing cloudy categoricals such as CD and see what other numericals i could create. the good news: the feature engineering i did paid off. those were my most important features according to the quick n' dirty Random Forest. \n",
    "- GBDT = .874 AUC\n",
    "- logreg = .849 AUC"
   ]
  },
  {
   "cell_type": "markdown",
   "id": "d5638fd0",
   "metadata": {},
   "source": [
    "#### ideal parameters for GBDT = {'learning_rate': 0.01, 'max_depth': 2, 'n_estimators': 1000}\n",
    "I will use GBDT due to its robustness to over-fitting. "
   ]
  },
  {
   "cell_type": "code",
   "execution_count": null,
   "id": "0a2b1ede",
   "metadata": {},
   "outputs": [],
   "source": []
  },
  {
   "cell_type": "code",
   "execution_count": null,
   "id": "1ba2698e",
   "metadata": {},
   "outputs": [],
   "source": []
  }
 ],
 "metadata": {
  "kernelspec": {
   "display_name": "Python 3",
   "language": "python",
   "name": "python3"
  },
  "language_info": {
   "codemirror_mode": {
    "name": "ipython",
    "version": 3
   },
   "file_extension": ".py",
   "mimetype": "text/x-python",
   "name": "python",
   "nbconvert_exporter": "python",
   "pygments_lexer": "ipython3",
   "version": "3.9.2"
  }
 },
 "nbformat": 4,
 "nbformat_minor": 5
}
